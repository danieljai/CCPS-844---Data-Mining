{
 "cells": [
  {
   "cell_type": "markdown",
   "metadata": {},
   "source": [
    "# Linear Regression\n",
    "Normal Equation: finds theta that minimizes cost function"
   ]
  },
  {
   "cell_type": "markdown",
   "metadata": {},
   "source": [
    "Linear Regression<BR>\n",
    "y = theta0 + (theta1 x1) + (theta2 x2) + ... <BR>\n",
    "\n",
    "Training a model = finding theta that minimizes error function (ex: MSE)"
   ]
  },
  {
   "cell_type": "code",
   "execution_count": 2,
   "metadata": {},
   "outputs": [
    {
     "data": {
      "image/png": "[encoded data removed]",
      "text/plain": [
       "<matplotlib.figure.Figure at 0x10af95c88>"
      ]
     },
     "metadata": {},
     "output_type": "display_data"
    }
   ],
   "source": [
    "# generate some data\n",
    "import numpy as np\n",
    "X = 2 * np.random.rand(100, 1)\n",
    "X1 = 2 * np.random.rand(100, 1)\n",
    "\n",
    "#np.random.rand -> Create an array of the given shape and populate it with random samples from a uniform distribution over [0, 1)\n",
    "y = 4 + 3 * X + np.random.randn(100, 1)\n",
    "y1 = 4 + 3 * X + np.random.rand(100, 1)-0.5\n",
    "\n",
    "%matplotlib inline\n",
    "import matplotlib.pyplot as plt\n",
    "\n",
    "plt.scatter(X,y1)\n",
    "plt.show()"
   ]
  },
  {
   "cell_type": "code",
   "execution_count": 3,
   "metadata": {},
   "outputs": [
    {
     "name": "stdout",
     "output_type": "stream",
     "text": [
      "intercept & coefficient:\n",
      " [ 3.90520787] [[ 3.02682478]]\n"
     ]
    }
   ],
   "source": [
    "# Scikit equivalent\n",
    "from sklearn.linear_model import LinearRegression\n",
    "lin_reg = LinearRegression()\n",
    "\n",
    "lin_reg.fit(X,y1)\n",
    "print(\"intercept & coefficient:\\n\", lin_reg.intercept_, lin_reg.coef_)\n"
   ]
  },
  {
   "cell_type": "markdown",
   "metadata": {
    "collapsed": true
   },
   "source": [
    "lab 3\n",
    "\n",
    "q.1 find out reshape function.\n",
    "q.2 using random function to generate values.\n",
    "- lin_reg.predict\n",
    "use intercept + slope * coefficient"
   ]
  },
  {
   "cell_type": "code",
   "execution_count": 4,
   "metadata": {},
   "outputs": [
    {
     "data": {
      "text/plain": [
       "array([[ 3.90520787],\n",
       "       [ 7.5373976 ],\n",
       "       [ 8.77839576],\n",
       "       [ 8.80866401],\n",
       "       [ 9.08107824],\n",
       "       [ 9.6864432 ]])"
      ]
     },
     "execution_count": 4,
     "metadata": {},
     "output_type": "execute_result"
    }
   ],
   "source": [
    "lin_reg.predict([[0],[1.2],[1.61],[1.62],[1.71],[1.91]])"
   ]
  },
  {
   "cell_type": "markdown",
   "metadata": {},
   "source": [
    "intercept = B\n",
    "coefficient = m"
   ]
  },
  {
   "cell_type": "code",
   "execution_count": 5,
   "metadata": {},
   "outputs": [
    {
     "data": {
      "text/plain": [
       "array([[ 7.5373976]])"
      ]
     },
     "execution_count": 5,
     "metadata": {},
     "output_type": "execute_result"
    }
   ],
   "source": [
    "lin_reg.intercept_ + lin_reg.coef_ *1.2"
   ]
  },
  {
   "cell_type": "code",
   "execution_count": 11,
   "metadata": {},
   "outputs": [
    {
     "data": {
      "text/plain": [
       "array([[ 5.66076624],\n",
       "       [ 5.66076624],\n",
       "       [ 8.83893226],\n",
       "       [ 3.99601261],\n",
       "       [ 7.56766585],\n",
       "       [ 5.90291222],\n",
       "       [ 6.29639944],\n",
       "       [ 5.72130273],\n",
       "       [ 5.08566953],\n",
       "       [ 6.2055947 ],\n",
       "       [ 4.23815859],\n",
       "       [ 8.50598153],\n",
       "       [ 6.35693594],\n",
       "       [ 4.66191406],\n",
       "       [ 4.66191406]])"
      ]
     },
     "execution_count": 11,
     "metadata": {},
     "output_type": "execute_result"
    }
   ],
   "source": [
    "lin_reg.predict(np.round(np.random.rand(15,1)*2,decimals=2))"
   ]
  },
  {
   "cell_type": "code",
   "execution_count": null,
   "metadata": {},
   "outputs": [],
   "source": []
  }
 ],
 "metadata": {
  "kernelspec": {
   "display_name": "Python 3",
   "language": "python",
   "name": "python3"
  },
  "language_info": {
   "codemirror_mode": {
    "name": "ipython",
    "version": 3
   },
   "file_extension": ".py",
   "mimetype": "text/x-python",
   "name": "python",
   "nbconvert_exporter": "python",
   "pygments_lexer": "ipython3",
   "version": "3.6.4"
  }
 },
 "nbformat": 4,
 "nbformat_minor": 2
}
