{
 "cells": [
  {
   "cell_type": "markdown",
   "metadata": {},
   "source": [
    "# Exercise 10: Hierarchical clustering of the grain data\n",
    "\n"
   ]
  },
  {
   "cell_type": "markdown",
   "metadata": {},
   "source": [
    "**Step 1:** Load the dataset _(done for you)_."
   ]
  },
  {
   "cell_type": "code",
   "execution_count": 8,
   "metadata": {
    "exercise": false
   },
   "outputs": [
    {
     "data": {
      "text/html": [
       "<style>.container { width:90% !important; }</style>"
      ],
      "text/plain": [
       "<IPython.core.display.HTML object>"
      ]
     },
     "metadata": {},
     "output_type": "display_data"
    }
   ],
   "source": [
    "from IPython.core.display import display, HTML\n",
    "display(HTML(\"<style>.container { width:90% !important; }</style>\"))\n",
    "import pandas as pd\n",
    "\n",
    "seeds_df = pd.read_csv('seeds-less-rows.csv')\n",
    "\n",
    "# remove the grain species from the DataFrame, save for later\n",
    "varieties = list(seeds_df.pop('grain_variety'))\n",
    "\n",
    "# extract the measurements as a NumPy array\n",
    "samples = seeds_df.values"
   ]
  },
  {
   "cell_type": "markdown",
   "metadata": {},
   "source": [
    "**Step 2:** Import:\n",
    "\n",
    " + `linkage` and `dendrogram` from `scipy.cluster.hierarchy`.\n",
    " + `matplotlib.pyplot` as `plt`."
   ]
  },
  {
   "cell_type": "code",
   "execution_count": 9,
   "metadata": {
    "collapsed": true
   },
   "outputs": [],
   "source": [
    "import matplotlib.pyplot as plt\n",
    "from scipy.cluster.hierarchy import linkage, dendrogram"
   ]
  },
  {
   "cell_type": "markdown",
   "metadata": {},
   "source": [
    "**Step 3:** Perform hierarchical clustering on `samples` using the `linkage()` function with the `method='complete'` keyword argument. Assign the result to `mergings`."
   ]
  },
  {
   "cell_type": "code",
   "execution_count": 10,
   "metadata": {
    "collapsed": true
   },
   "outputs": [],
   "source": [
    "mergings=linkage(samples,method='complete')"
   ]
  },
  {
   "cell_type": "markdown",
   "metadata": {},
   "source": [
    "**Step 4:** Plot a dendrogram using the `dendrogram()` function on `mergings`, specifying the keyword arguments `labels=varieties`, `leaf_rotation=90`, and `leaf_font_size=6`.  Remember to call `plt.show()` afterwards, to display your plot."
   ]
  },
  {
   "cell_type": "code",
   "execution_count": 12,
   "metadata": {},
   "outputs": [
    {
     "data": {
      "text/plain": [
       "array([[33.        , 36.        ,  0.27162909,  2.        ],\n",
       "       [21.        , 26.        ,  0.31365739,  2.        ],\n",
       "       [18.        , 43.        ,  0.32846589,  3.        ],\n",
       "       [38.        , 41.        ,  0.34657328,  2.        ],\n",
       "       [19.        , 22.        ,  0.37233454,  2.        ],\n",
       "       [15.        , 27.        ,  0.38916958,  2.        ],\n",
       "       [ 4.        , 11.        ,  0.48519909,  2.        ],\n",
       "       [ 2.        , 13.        ,  0.60220511,  2.        ],\n",
       "       [23.        , 25.        ,  0.64447995,  2.        ],\n",
       "       [ 0.        ,  9.        ,  0.66671658,  2.        ],\n",
       "       [32.        , 37.        ,  0.68359363,  2.        ],\n",
       "       [39.        , 42.        ,  0.75541297,  3.        ],\n",
       "       [12.        , 29.        ,  0.76129577,  2.        ],\n",
       "       [30.        , 34.        ,  0.79066703,  2.        ],\n",
       "       [24.        , 47.        ,  0.89015184,  3.        ],\n",
       "       [ 1.        ,  6.        ,  0.96077742,  2.        ],\n",
       "       [31.        , 45.        ,  0.98956619,  3.        ],\n",
       "       [16.        , 50.        ,  1.05891757,  3.        ],\n",
       "       [17.        , 20.        ,  1.11543099,  2.        ],\n",
       "       [ 8.        , 40.        ,  1.13733735,  2.        ],\n",
       "       [44.        , 46.        ,  1.1662041 ,  5.        ],\n",
       "       [ 5.        , 61.        ,  1.28676337,  3.        ],\n",
       "       [35.        , 52.        ,  1.37690488,  3.        ],\n",
       "       [48.        , 49.        ,  1.52865125,  4.        ],\n",
       "       [53.        , 64.        ,  1.66517195,  6.        ],\n",
       "       [14.        , 56.        ,  1.74234784,  4.        ],\n",
       "       [51.        , 65.        ,  1.91015424,  6.        ],\n",
       "       [ 7.        , 57.        ,  1.91749035,  3.        ],\n",
       "       [28.        , 55.        ,  2.08980038,  3.        ],\n",
       "       [54.        , 58.        ,  2.13385537,  5.        ],\n",
       "       [ 3.        , 10.        ,  2.22187038,  2.        ],\n",
       "       [59.        , 67.        ,  2.31852251,  7.        ],\n",
       "       [60.        , 62.        ,  2.33686195,  7.        ],\n",
       "       [68.        , 69.        ,  2.76779035,  9.        ],\n",
       "       [66.        , 70.        ,  3.13448417,  9.        ],\n",
       "       [63.        , 71.        ,  3.25744652,  8.        ],\n",
       "       [73.        , 74.        ,  3.71580316, 14.        ],\n",
       "       [72.        , 75.        ,  4.68116988, 11.        ],\n",
       "       [76.        , 77.        ,  5.45789312, 17.        ],\n",
       "       [78.        , 79.        ,  6.74608427, 25.        ],\n",
       "       [80.        , 81.        ,  9.61230238, 42.        ]])"
      ]
     },
     "execution_count": 12,
     "metadata": {},
     "output_type": "execute_result"
    }
   ],
   "source": [
    "mergings"
   ]
  },
  {
   "cell_type": "code",
   "execution_count": 11,
   "metadata": {},
   "outputs": [
    {
     "data": {
      "image/png": "[encoded data removed]",
      "text/plain": [
       "<Figure size 1008x576 with 1 Axes>"
      ]
     },
     "metadata": {},
     "output_type": "display_data"
    }
   ],
   "source": [
    "dendrogram(mergings,labels=varieties,leaf_rotation=90,leaf_font_size=12)\n",
    "plt.gcf().set_size_inches(14, 8)\n",
    "\n",
    "plt.show()"
   ]
  },
  {
   "cell_type": "code",
   "execution_count": null,
   "metadata": {
    "collapsed": true
   },
   "outputs": [],
   "source": []
  }
 ],
 "metadata": {
  "kernelspec": {
   "display_name": "Python 3",
   "language": "python",
   "name": "python3"
  },
  "language_info": {
   "codemirror_mode": {
    "name": "ipython",
    "version": 3
   },
   "file_extension": ".py",
   "mimetype": "text/x-python",
   "name": "python",
   "nbconvert_exporter": "python",
   "pygments_lexer": "ipython3",
   "version": "3.6.4"
  }
 },
 "nbformat": 4,
 "nbformat_minor": 2
}
