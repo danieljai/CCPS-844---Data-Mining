{
 "cells": [
  {
   "cell_type": "markdown",
   "metadata": {},
   "source": [
    "# Support Vector Machine Classification\n",
    "Support vector machines (SVMs) are a set of supervised learning methods used for classification, regression and outliers detection.\n",
    "\n",
    "The advantages of support vector machines are:\n",
    "\n",
    "* Effective in high dimensional spaces.\n",
    "* Still effective in cases where number of dimensions is greater than the number of samples.\n",
    "* Uses a subset of training points in the decision function (called support vectors), so it is also memory efficient.\n",
    "* Versatile: different Kernel functions can be specified for the decision function. Common kernels are provided, but it is also possible to specify custom kernels.\n",
    "\n",
    "The disadvantages of support vector machines include:\n",
    "\n",
    "* If the number of features is much greater than the number of samples, avoid over-fitting in choosing Kernel functions and regularization term is crucial.\n",
    "* SVMs do not directly provide probability estimates, these are calculated using an expensive five-fold cross-validation (see Scores and probabilities, below).\n",
    "\n",
    "http://scikit-learn.org/stable/modules/svm.html"
   ]
  },
  {
   "cell_type": "code",
   "execution_count": 1,
   "metadata": {},
   "outputs": [],
   "source": [
    "import numpy as np\n",
    "import matplotlib.pyplot as plt\n",
    "import pandas as pd"
   ]
  },
  {
   "cell_type": "code",
   "execution_count": 2,
   "metadata": {},
   "outputs": [
    {
     "data": {
      "text/plain": [
       "array([1])"
      ]
     },
     "execution_count": 2,
     "metadata": {},
     "output_type": "execute_result"
    }
   ],
   "source": [
    "from sklearn import svm\n",
    "X = [[0, 0], [1, 1]]\n",
    "y = [0, 1]\n",
    "clf = svm.SVC()\n",
    "clf.fit(X, y)  \n",
    "\"\"\"SVC(C=1.0, cache_size=200, class_weight=None, coef0=0.0,\n",
    "    decision_function_shape='ovr', degree=3, gamma='auto', kernel='rbf',\n",
    "    max_iter=-1, probability=False, random_state=None, shrinking=True,\n",
    "    tol=0.001, verbose=False)\"\"\"\n",
    "clf.predict([[2., 2.]])"
   ]
  },
  {
   "cell_type": "code",
   "execution_count": 3,
   "metadata": {},
   "outputs": [
    {
     "data": {
      "text/plain": [
       "[[0, 0], [1, 1]]"
      ]
     },
     "execution_count": 3,
     "metadata": {},
     "output_type": "execute_result"
    }
   ],
   "source": [
    "X"
   ]
  },
  {
   "cell_type": "code",
   "execution_count": 4,
   "metadata": {},
   "outputs": [
    {
     "data": {
      "text/plain": [
       "[0, 1]"
      ]
     },
     "execution_count": 4,
     "metadata": {},
     "output_type": "execute_result"
    }
   ],
   "source": [
    "y"
   ]
  },
  {
   "cell_type": "code",
   "execution_count": 5,
   "metadata": {},
   "outputs": [
    {
     "data": {
      "text/plain": [
       "array([0])"
      ]
     },
     "execution_count": 5,
     "metadata": {},
     "output_type": "execute_result"
    }
   ],
   "source": [
    "clf.predict([[0., 0.]])"
   ]
  },
  {
   "cell_type": "code",
   "execution_count": 6,
   "metadata": {},
   "outputs": [
    {
     "data": {
      "text/plain": [
       "array([0])"
      ]
     },
     "execution_count": 6,
     "metadata": {},
     "output_type": "execute_result"
    }
   ],
   "source": [
    "clf.predict([[0., 0.]])"
   ]
  },
  {
   "cell_type": "markdown",
   "metadata": {},
   "source": [
    "### get support vectors"
   ]
  },
  {
   "cell_type": "code",
   "execution_count": 7,
   "metadata": {},
   "outputs": [
    {
     "data": {
      "text/plain": [
       "array([[ 0.,  0.],\n",
       "       [ 1.,  1.]])"
      ]
     },
     "execution_count": 7,
     "metadata": {},
     "output_type": "execute_result"
    }
   ],
   "source": [
    "clf.support_vectors_\n"
   ]
  },
  {
   "cell_type": "markdown",
   "metadata": {},
   "source": [
    "### get indices of support vectors\n"
   ]
  },
  {
   "cell_type": "code",
   "execution_count": 8,
   "metadata": {},
   "outputs": [
    {
     "data": {
      "text/plain": [
       "array([0, 1], dtype=int32)"
      ]
     },
     "execution_count": 8,
     "metadata": {},
     "output_type": "execute_result"
    }
   ],
   "source": [
    "clf.support_ "
   ]
  },
  {
   "cell_type": "markdown",
   "metadata": {},
   "source": [
    "### get number of support vectors for each class"
   ]
  },
  {
   "cell_type": "code",
   "execution_count": 9,
   "metadata": {},
   "outputs": [
    {
     "data": {
      "text/plain": [
       "array([1, 1], dtype=int32)"
      ]
     },
     "execution_count": 9,
     "metadata": {},
     "output_type": "execute_result"
    }
   ],
   "source": [
    "clf.n_support_ "
   ]
  },
  {
   "cell_type": "code",
   "execution_count": null,
   "metadata": {},
   "outputs": [],
   "source": []
  },
  {
   "cell_type": "markdown",
   "metadata": {},
   "source": [
    "Init signature: svm.SVC(C=1.0, kernel='rbf', degree=3, gamma='auto', coef0=0.0, shrinking=True, probability=False, tol=0.001, cache_size=200, class_weight=None, verbose=False, max_iter=-1, decision_function_shape='ovr', random_state=None)\n",
    "Docstring:     \n",
    "C-Support Vector Classification.\n",
    "\n",
    "The implementation is based on libsvm. The fit time complexity\n",
    "is more than quadratic with the number of samples which makes it hard\n",
    "to scale to dataset with more than a couple of 10000 samples.\n",
    "\n",
    "The multiclass support is handled according to a one-vs-one scheme.\n",
    "\n",
    "For details on the precise mathematical formulation of the provided\n",
    "kernel functions and how `gamma`, `coef0` and `degree` affect each\n",
    "other, see the corresponding section in the narrative documentation:\n",
    ":ref:`svm_kernels`.\n",
    "\n",
    "Read more in the :ref:`User Guide <svm_classification>`.\n",
    "\n",
    "Parameters\n",
    "----------\n",
    "C : float, optional (default=1.0)\n",
    "    Penalty parameter C of the error term.\n",
    "\n",
    "kernel : string, optional (default='rbf')\n",
    "     Specifies the kernel type to be used in the algorithm.\n",
    "     It must be one of 'linear', 'poly', 'rbf', 'sigmoid', 'precomputed' or\n",
    "     a callable.\n",
    "     If none is given, 'rbf' will be used. If a callable is given it is\n",
    "     used to pre-compute the kernel matrix from data matrices; that matrix\n",
    "     should be an array of shape ``(n_samples, n_samples)``.\n",
    "\n",
    "degree : int, optional (default=3)\n",
    "    Degree of the polynomial kernel function ('poly').\n",
    "    Ignored by all other kernels.\n",
    "\n",
    "gamma : float, optional (default='auto')\n",
    "    Kernel coefficient for 'rbf', 'poly' and 'sigmoid'.\n",
    "    If gamma is 'auto' then 1/n_features will be used instead.\n",
    "\n",
    "coef0 : float, optional (default=0.0)\n",
    "    Independent term in kernel function.\n",
    "    It is only significant in 'poly' and 'sigmoid'.\n",
    "\n",
    "probability : boolean, optional (default=False)\n",
    "    Whether to enable probability estimates. This must be enabled prior\n",
    "    to calling `fit`, and will slow down that method.\n",
    "\n",
    "shrinking : boolean, optional (default=True)\n",
    "    Whether to use the shrinking heuristic.\n",
    "\n",
    "tol : float, optional (default=1e-3)\n",
    "    Tolerance for stopping criterion.\n",
    "\n",
    "cache_size : float, optional\n",
    "    Specify the size of the kernel cache (in MB).\n",
    "\n",
    "class_weight : {dict, 'balanced'}, optional\n",
    "    Set the parameter C of class i to class_weight[i]*C for\n",
    "    SVC. If not given, all classes are supposed to have\n",
    "    weight one.\n",
    "    The \"balanced\" mode uses the values of y to automatically adjust\n",
    "    weights inversely proportional to class frequencies in the input data\n",
    "    as ``n_samples / (n_classes * np.bincount(y))``\n",
    "\n",
    "verbose : bool, default: False\n",
    "    Enable verbose output. Note that this setting takes advantage of a\n",
    "    per-process runtime setting in libsvm that, if enabled, may not work\n",
    "    properly in a multithreaded context.\n",
    "\n",
    "max_iter : int, optional (default=-1)\n",
    "    Hard limit on iterations within solver, or -1 for no limit.\n",
    "\n",
    "decision_function_shape : 'ovo', 'ovr', default='ovr'\n",
    "    Whether to return a one-vs-rest ('ovr') decision function of shape\n",
    "    (n_samples, n_classes) as all other classifiers, or the original\n",
    "    one-vs-one ('ovo') decision function of libsvm which has shape\n",
    "    (n_samples, n_classes * (n_classes - 1) / 2).\n",
    "\n",
    "    .. versionchanged:: 0.19\n",
    "        decision_function_shape is 'ovr' by default.\n",
    "\n",
    "    .. versionadded:: 0.17\n",
    "       *decision_function_shape='ovr'* is recommended.\n",
    "\n",
    "    .. versionchanged:: 0.17\n",
    "       Deprecated *decision_function_shape='ovo' and None*.\n",
    "\n",
    "random_state : int, RandomState instance or None, optional (default=None)\n",
    "    The seed of the pseudo random number generator to use when shuffling\n",
    "    the data.  If int, random_state is the seed used by the random number\n",
    "    generator; If RandomState instance, random_state is the random number\n",
    "    generator; If None, the random number generator is the RandomState\n",
    "    instance used by `np.random`.\n",
    "\n",
    "Attributes\n",
    "----------\n",
    "support_ : array-like, shape = [n_SV]\n",
    "    Indices of support vectors.\n",
    "\n",
    "support_vectors_ : array-like, shape = [n_SV, n_features]\n",
    "    Support vectors.\n",
    "\n",
    "n_support_ : array-like, dtype=int32, shape = [n_class]\n",
    "    Number of support vectors for each class.\n",
    "\n",
    "dual_coef_ : array, shape = [n_class-1, n_SV]\n",
    "    Coefficients of the support vector in the decision function.\n",
    "    For multiclass, coefficient for all 1-vs-1 classifiers.\n",
    "    The layout of the coefficients in the multiclass case is somewhat\n",
    "    non-trivial. See the section about multi-class classification in the\n",
    "    SVM section of the User Guide for details.\n",
    "\n",
    "coef_ : array, shape = [n_class-1, n_features]\n",
    "    Weights assigned to the features (coefficients in the primal\n",
    "    problem). This is only available in the case of a linear kernel.\n",
    "\n",
    "    `coef_` is a readonly property derived from `dual_coef_` and\n",
    "    `support_vectors_`.\n",
    "\n",
    "intercept_ : array, shape = [n_class * (n_class-1) / 2]\n",
    "    Constants in decision function.\n",
    "\n",
    "Examples\n",
    "--------\n",
    ">>> import numpy as np\n",
    ">>> X = np.array([[-1, -1], [-2, -1], [1, 1], [2, 1]])\n",
    ">>> y = np.array([1, 1, 2, 2])\n",
    ">>> from sklearn.svm import SVC\n",
    ">>> clf = SVC()\n",
    ">>> clf.fit(X, y) #doctest: +NORMALIZE_WHITESPACE\n",
    "SVC(C=1.0, cache_size=200, class_weight=None, coef0=0.0,\n",
    "    decision_function_shape='ovr', degree=3, gamma='auto', kernel='rbf',\n",
    "    max_iter=-1, probability=False, random_state=None, shrinking=True,\n",
    "    tol=0.001, verbose=False)\n",
    ">>> print(clf.predict([[-0.8, -1]]))\n",
    "[1]\n",
    "\n",
    "See also\n",
    "--------\n",
    "SVR\n",
    "    Support Vector Machine for Regression implemented using libsvm.\n",
    "\n",
    "LinearSVC\n",
    "    Scalable Linear Support Vector Machine for classification\n",
    "    implemented using liblinear. Check the See also section of\n",
    "    LinearSVC for more comparison element.\n",
    "File:           c:\\users\\naeem\\anaconda3\\lib\\site-packages\\sklearn\\svm\\classes.py\n",
    "Type:           ABCMeta"
   ]
  },
  {
   "cell_type": "markdown",
   "metadata": {},
   "source": [
    "### Importing the dataset"
   ]
  },
  {
   "cell_type": "code",
   "execution_count": 10,
   "metadata": {},
   "outputs": [],
   "source": [
    "dataset = pd.read_csv('Social_Network_Ads.csv')\n",
    "X = dataset.iloc[:, [2, 3]].values\n",
    "y = dataset.iloc[:, 4].values"
   ]
  },
  {
   "cell_type": "code",
   "execution_count": 16,
   "metadata": {},
   "outputs": [
    {
     "data": {
      "text/html": [
       "<div>\n",
       "<style scoped>\n",
       "    .dataframe tbody tr th:only-of-type {\n",
       "        vertical-align: middle;\n",
       "    }\n",
       "\n",
       "    .dataframe tbody tr th {\n",
       "        vertical-align: top;\n",
       "    }\n",
       "\n",
       "    .dataframe thead th {\n",
       "        text-align: right;\n",
       "    }\n",
       "</style>\n",
       "<table border=\"1\" class=\"dataframe\">\n",
       "  <thead>\n",
       "    <tr style=\"text-align: right;\">\n",
       "      <th></th>\n",
       "      <th>User ID</th>\n",
       "      <th>Gender</th>\n",
       "      <th>Age</th>\n",
       "      <th>EstimatedSalary</th>\n",
       "      <th>Purchased</th>\n",
       "    </tr>\n",
       "  </thead>\n",
       "  <tbody>\n",
       "    <tr>\n",
       "      <th>30</th>\n",
       "      <td>15581198</td>\n",
       "      <td>Male</td>\n",
       "      <td>31</td>\n",
       "      <td>74000</td>\n",
       "      <td>0</td>\n",
       "    </tr>\n",
       "  </tbody>\n",
       "</table>\n",
       "</div>"
      ],
      "text/plain": [
       "     User ID Gender  Age  EstimatedSalary  Purchased\n",
       "30  15581198   Male   31            74000          0"
      ]
     },
     "execution_count": 16,
     "metadata": {},
     "output_type": "execute_result"
    }
   ],
   "source": [
    "dataset.sample()"
   ]
  },
  {
   "cell_type": "markdown",
   "metadata": {},
   "source": [
    "### Splitting the dataset into the Training set and Test set"
   ]
  },
  {
   "cell_type": "code",
   "execution_count": 11,
   "metadata": {},
   "outputs": [
    {
     "name": "stderr",
     "output_type": "stream",
     "text": [
      "/Users/dee/anaconda3/lib/python3.6/site-packages/sklearn/cross_validation.py:41: DeprecationWarning: This module was deprecated in version 0.18 in favor of the model_selection module into which all the refactored classes and functions are moved. Also note that the interface of the new CV iterators are different from that of this module. This module will be removed in 0.20.\n",
      "  \"This module will be removed in 0.20.\", DeprecationWarning)\n"
     ]
    }
   ],
   "source": [
    "from sklearn.cross_validation import train_test_split\n",
    "X_train, X_test, y_train, y_test = train_test_split(X, y, test_size = 0.25, random_state = 0)"
   ]
  },
  {
   "cell_type": "markdown",
   "metadata": {},
   "source": [
    "### Feature Scaling"
   ]
  },
  {
   "cell_type": "code",
   "execution_count": 12,
   "metadata": {},
   "outputs": [
    {
     "name": "stderr",
     "output_type": "stream",
     "text": [
      "/Users/dee/anaconda3/lib/python3.6/site-packages/sklearn/utils/validation.py:475: DataConversionWarning: Data with input dtype int64 was converted to float64 by StandardScaler.\n",
      "  warnings.warn(msg, DataConversionWarning)\n"
     ]
    }
   ],
   "source": [
    "from sklearn.preprocessing import StandardScaler\n",
    "sc = StandardScaler()\n",
    "X_train = sc.fit_transform(X_train)\n",
    "X_test = sc.transform(X_test)\n"
   ]
  },
  {
   "cell_type": "markdown",
   "metadata": {},
   "source": [
    "### Fitting SVM to the Training set\n"
   ]
  },
  {
   "cell_type": "code",
   "execution_count": 13,
   "metadata": {},
   "outputs": [
    {
     "data": {
      "text/plain": [
       "SVC(C=1.0, cache_size=200, class_weight=None, coef0=0.0,\n",
       "  decision_function_shape='ovr', degree=3, gamma='auto', kernel='linear',\n",
       "  max_iter=-1, probability=False, random_state=0, shrinking=True,\n",
       "  tol=0.001, verbose=False)"
      ]
     },
     "execution_count": 13,
     "metadata": {},
     "output_type": "execute_result"
    }
   ],
   "source": [
    "from sklearn.svm import SVC\n",
    "classifier = SVC(kernel = 'linear', random_state = 0)\n",
    "classifier.fit(X_train, y_train)"
   ]
  },
  {
   "cell_type": "markdown",
   "metadata": {},
   "source": [
    "#### Predicting the Test set results"
   ]
  },
  {
   "cell_type": "code",
   "execution_count": 14,
   "metadata": {},
   "outputs": [],
   "source": [
    "y_pred = classifier.predict(X_test)"
   ]
  },
  {
   "cell_type": "markdown",
   "metadata": {},
   "source": [
    "#### Making the Confusion Matrix"
   ]
  },
  {
   "cell_type": "code",
   "execution_count": 15,
   "metadata": {},
   "outputs": [
    {
     "data": {
      "text/plain": [
       "array([[66,  2],\n",
       "       [ 8, 24]])"
      ]
     },
     "execution_count": 15,
     "metadata": {},
     "output_type": "execute_result"
    }
   ],
   "source": [
    "from sklearn.metrics import confusion_matrix\n",
    "cm = confusion_matrix(y_test, y_pred)\n",
    "cm"
   ]
  },
  {
   "cell_type": "code",
   "execution_count": null,
   "metadata": {},
   "outputs": [],
   "source": []
  }
 ],
 "metadata": {
  "kernelspec": {
   "display_name": "Python 3",
   "language": "python",
   "name": "python3"
  },
  "language_info": {
   "codemirror_mode": {
    "name": "ipython",
    "version": 3
   },
   "file_extension": ".py",
   "mimetype": "text/x-python",
   "name": "python",
   "nbconvert_exporter": "python",
   "pygments_lexer": "ipython3",
   "version": "3.6.4"
  }
 },
 "nbformat": 4,
 "nbformat_minor": 2
}
