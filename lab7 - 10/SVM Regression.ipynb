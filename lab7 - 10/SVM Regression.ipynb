{
 "cells": [
  {
   "cell_type": "markdown",
   "metadata": {},
   "source": [
    "# Support Vector Machine Regression"
   ]
  },
  {
   "cell_type": "markdown",
   "metadata": {},
   "source": [
    "The method of Support Vector Classification can be extended to solve regression problems. This method is called Support Vector Regression.\n",
    "\n",
    "The model produced by support vector classification (as described above) depends only on a subset of the training data, because the cost function for building the model does not care about training points that lie beyond the margin. Analogously, the model produced by Support Vector Regression depends only on a subset of the training data, because the cost function for building the model ignores any training data close to the model prediction."
   ]
  },
  {
   "cell_type": "markdown",
   "metadata": {},
   "source": [
    "#### Creating the data"
   ]
  },
  {
   "cell_type": "code",
   "execution_count": 1,
   "metadata": {},
   "outputs": [],
   "source": [
    "X = [[0, 0], [2, 2]]\n",
    "y = [0.5, 2.5]"
   ]
  },
  {
   "cell_type": "markdown",
   "metadata": {},
   "source": [
    "#### Fit the model"
   ]
  },
  {
   "cell_type": "code",
   "execution_count": 2,
   "metadata": {},
   "outputs": [
    {
     "data": {
      "text/plain": [
       "array([ 1.5])"
      ]
     },
     "execution_count": 2,
     "metadata": {},
     "output_type": "execute_result"
    }
   ],
   "source": [
    "from sklearn import svm\n",
    "clf = svm.SVR()\n",
    "clf.fit(X, y) \n",
    "\"\"\"SVR(C=1.0, cache_size=200, coef0=0.0, degree=3, epsilon=0.1, gamma='auto',\n",
    "    kernel='rbf', max_iter=-1, shrinking=True, tol=0.001, verbose=False)\"\"\"\n",
    "clf.predict([[1, 1]])"
   ]
  },
  {
   "cell_type": "code",
   "execution_count": 3,
   "metadata": {},
   "outputs": [
    {
     "data": {
      "text/plain": [
       "array([ 0.6])"
      ]
     },
     "execution_count": 3,
     "metadata": {},
     "output_type": "execute_result"
    }
   ],
   "source": [
    "clf.predict([[0, 0]])"
   ]
  },
  {
   "cell_type": "markdown",
   "metadata": {},
   "source": [
    "Init signature: svm.SVR(kernel='rbf', degree=3, gamma='auto', coef0=0.0, tol=0.001, C=1.0, epsilon=0.1, shrinking=True, cache_size=200, verbose=False, max_iter=-1)\n",
    "Docstring:     \n",
    "Epsilon-Support Vector Regression.\n",
    "\n",
    "The free parameters in the model are C and epsilon.\n",
    "\n",
    "The implementation is based on libsvm.\n",
    "\n",
    "Read more in the :ref:`User Guide <svm_regression>`.\n",
    "\n",
    "Parameters\n",
    "----------\n",
    "C : float, optional (default=1.0)\n",
    "    Penalty parameter C of the error term.\n",
    "\n",
    "epsilon : float, optional (default=0.1)\n",
    "     Epsilon in the epsilon-SVR model. It specifies the epsilon-tube\n",
    "     within which no penalty is associated in the training loss function\n",
    "     with points predicted within a distance epsilon from the actual\n",
    "     value.\n",
    "\n",
    "kernel : string, optional (default='rbf')\n",
    "     Specifies the kernel type to be used in the algorithm.\n",
    "     It must be one of 'linear', 'poly', 'rbf', 'sigmoid', 'precomputed' or\n",
    "     a callable.\n",
    "     If none is given, 'rbf' will be used. If a callable is given it is\n",
    "     used to precompute the kernel matrix.\n",
    "\n",
    "degree : int, optional (default=3)\n",
    "    Degree of the polynomial kernel function ('poly').\n",
    "    Ignored by all other kernels.\n",
    "\n",
    "gamma : float, optional (default='auto')\n",
    "    Kernel coefficient for 'rbf', 'poly' and 'sigmoid'.\n",
    "    If gamma is 'auto' then 1/n_features will be used instead.\n",
    "\n",
    "coef0 : float, optional (default=0.0)\n",
    "    Independent term in kernel function.\n",
    "    It is only significant in 'poly' and 'sigmoid'.\n",
    "\n",
    "shrinking : boolean, optional (default=True)\n",
    "    Whether to use the shrinking heuristic.\n",
    "\n",
    "tol : float, optional (default=1e-3)\n",
    "    Tolerance for stopping criterion.\n",
    "\n",
    "cache_size : float, optional\n",
    "    Specify the size of the kernel cache (in MB).\n",
    "\n",
    "verbose : bool, default: False\n",
    "    Enable verbose output. Note that this setting takes advantage of a\n",
    "    per-process runtime setting in libsvm that, if enabled, may not work\n",
    "    properly in a multithreaded context.\n",
    "\n",
    "max_iter : int, optional (default=-1)\n",
    "    Hard limit on iterations within solver, or -1 for no limit.\n",
    "\n",
    "Attributes\n",
    "----------\n",
    "support_ : array-like, shape = [n_SV]\n",
    "    Indices of support vectors.\n",
    "\n",
    "support_vectors_ : array-like, shape = [nSV, n_features]\n",
    "    Support vectors.\n",
    "\n",
    "dual_coef_ : array, shape = [1, n_SV]\n",
    "    Coefficients of the support vector in the decision function.\n",
    "\n",
    "coef_ : array, shape = [1, n_features]\n",
    "    Weights assigned to the features (coefficients in the primal\n",
    "    problem). This is only available in the case of a linear kernel.\n",
    "\n",
    "    `coef_` is readonly property derived from `dual_coef_` and\n",
    "    `support_vectors_`.\n",
    "\n",
    "intercept_ : array, shape = [1]\n",
    "    Constants in decision function.\n",
    "\n",
    "sample_weight : array-like, shape = [n_samples]\n",
    "        Individual weights for each sample\n",
    "\n",
    "Examples\n",
    "--------\n",
    ">>> from sklearn.svm import SVR\n",
    ">>> import numpy as np\n",
    ">>> n_samples, n_features = 10, 5\n",
    ">>> np.random.seed(0)\n",
    ">>> y = np.random.randn(n_samples)\n",
    ">>> X = np.random.randn(n_samples, n_features)\n",
    ">>> clf = SVR(C=1.0, epsilon=0.2)\n",
    ">>> clf.fit(X, y) #doctest: +NORMALIZE_WHITESPACE\n",
    "SVR(C=1.0, cache_size=200, coef0=0.0, degree=3, epsilon=0.2, gamma='auto',\n",
    "    kernel='rbf', max_iter=-1, shrinking=True, tol=0.001, verbose=False)\n",
    "\n",
    "See also\n",
    "--------\n",
    "NuSVR\n",
    "    Support Vector Machine for regression implemented using libsvm\n",
    "    using a parameter to control the number of support vectors.\n",
    "\n",
    "LinearSVR\n",
    "    Scalable Linear Support Vector Machine for regression\n",
    "    implemented using liblinear.\n",
    "File:           c:\\users\\naeem\\anaconda3\\lib\\site-packages\\sklearn\\svm\\classes.py\n",
    "Type:           ABCMeta"
   ]
  },
  {
   "cell_type": "code",
   "execution_count": 20,
   "metadata": {},
   "outputs": [],
   "source": [
    "# Importing the libraries\n",
    "import numpy as np\n",
    "import matplotlib.pyplot as plt\n",
    "import pandas as pd\n",
    "\n",
    "# Importing the dataset\n",
    "dataset = pd.read_csv('Position_Salaries.csv')\n",
    "X = dataset.iloc[:, 1:2].values\n",
    "y = dataset.iloc[:, 2].values"
   ]
  },
  {
   "cell_type": "code",
   "execution_count": 21,
   "metadata": {
    "scrolled": true
   },
   "outputs": [
    {
     "data": {
      "text/html": [
       "<div>\n",
       "<style scoped>\n",
       "    .dataframe tbody tr th:only-of-type {\n",
       "        vertical-align: middle;\n",
       "    }\n",
       "\n",
       "    .dataframe tbody tr th {\n",
       "        vertical-align: top;\n",
       "    }\n",
       "\n",
       "    .dataframe thead th {\n",
       "        text-align: right;\n",
       "    }\n",
       "</style>\n",
       "<table border=\"1\" class=\"dataframe\">\n",
       "  <thead>\n",
       "    <tr style=\"text-align: right;\">\n",
       "      <th></th>\n",
       "      <th>Position</th>\n",
       "      <th>Level</th>\n",
       "      <th>Salary</th>\n",
       "    </tr>\n",
       "  </thead>\n",
       "  <tbody>\n",
       "    <tr>\n",
       "      <th>4</th>\n",
       "      <td>Country Manager</td>\n",
       "      <td>5</td>\n",
       "      <td>110000</td>\n",
       "    </tr>\n",
       "  </tbody>\n",
       "</table>\n",
       "</div>"
      ],
      "text/plain": [
       "          Position  Level  Salary\n",
       "4  Country Manager      5  110000"
      ]
     },
     "execution_count": 21,
     "metadata": {},
     "output_type": "execute_result"
    }
   ],
   "source": [
    "dataset.sample()"
   ]
  },
  {
   "cell_type": "code",
   "execution_count": 23,
   "metadata": {},
   "outputs": [
    {
     "data": {
      "text/plain": [
       "array([  45000,   50000,   60000,   80000,  110000,  150000,  200000,\n",
       "        300000,  500000, 1000000])"
      ]
     },
     "execution_count": 23,
     "metadata": {},
     "output_type": "execute_result"
    }
   ],
   "source": [
    "y"
   ]
  },
  {
   "cell_type": "code",
   "execution_count": 5,
   "metadata": {},
   "outputs": [
    {
     "data": {
      "text/plain": [
       "SVR(C=1.0, cache_size=200, coef0=0.0, degree=3, epsilon=0.1, gamma='auto',\n",
       "  kernel='rbf', max_iter=-1, shrinking=True, tol=0.001, verbose=False)"
      ]
     },
     "execution_count": 5,
     "metadata": {},
     "output_type": "execute_result"
    }
   ],
   "source": [
    "# Fitting SVR to the dataset\n",
    "from sklearn.svm import SVR\n",
    "regressor = SVR(kernel = 'rbf')\n",
    "regressor.fit(X, y)\n"
   ]
  },
  {
   "cell_type": "code",
   "execution_count": 6,
   "metadata": {},
   "outputs": [
    {
     "data": {
      "text/plain": [
       "array([ 130001.55760156])"
      ]
     },
     "execution_count": 6,
     "metadata": {},
     "output_type": "execute_result"
    }
   ],
   "source": [
    "# Predicting a new result\n",
    "y_pred = regressor.predict(6.5)\n",
    "y_pred"
   ]
  },
  {
   "cell_type": "code",
   "execution_count": 14,
   "metadata": {},
   "outputs": [
    {
     "name": "stderr",
     "output_type": "stream",
     "text": [
      "/Users/dee/anaconda3/lib/python3.6/site-packages/sklearn/utils/validation.py:475: DataConversionWarning: Data with input dtype int64 was converted to float64 by StandardScaler.\n",
      "  warnings.warn(msg, DataConversionWarning)\n"
     ]
    }
   ],
   "source": [
    "# Importing the dataset\n",
    "dataset = pd.read_csv('Position_Salaries.csv')\n",
    "X = dataset.iloc[:, 1:2].values\n",
    "y = dataset.iloc[:, 2].values\n",
    "#y is 1D array converting it to 2D array\n",
    "y = np.reshape(y, (-1,1)) \n",
    "# Feature Scaling\n",
    "from sklearn.preprocessing import StandardScaler\n",
    "sc_X = StandardScaler()\n",
    "sc_y = StandardScaler()\n",
    "X = sc_X.fit_transform(X)\n",
    "y = sc_y.fit_transform(y)\n"
   ]
  },
  {
   "cell_type": "code",
   "execution_count": 16,
   "metadata": {},
   "outputs": [
    {
     "data": {
      "text/plain": [
       "array([  45000,   50000,   60000,   80000,  110000,  150000,  200000,\n",
       "        300000,  500000, 1000000])"
      ]
     },
     "execution_count": 16,
     "metadata": {},
     "output_type": "execute_result"
    }
   ],
   "source": [
    "dataset.iloc[:, 2].values"
   ]
  },
  {
   "cell_type": "code",
   "execution_count": 18,
   "metadata": {},
   "outputs": [
    {
     "data": {
      "text/plain": [
       "array([[  45000],\n",
       "       [  50000],\n",
       "       [  60000],\n",
       "       [  80000],\n",
       "       [ 110000],\n",
       "       [ 150000],\n",
       "       [ 200000],\n",
       "       [ 300000],\n",
       "       [ 500000],\n",
       "       [1000000]])"
      ]
     },
     "execution_count": 18,
     "metadata": {},
     "output_type": "execute_result"
    }
   ],
   "source": [
    "np.reshape(dataset.iloc[:, 2].values, (-1,1))"
   ]
  },
  {
   "cell_type": "code",
   "execution_count": 8,
   "metadata": {},
   "outputs": [
    {
     "name": "stderr",
     "output_type": "stream",
     "text": [
      "/Users/dee/anaconda3/lib/python3.6/site-packages/sklearn/utils/validation.py:578: DataConversionWarning: A column-vector y was passed when a 1d array was expected. Please change the shape of y to (n_samples, ), for example using ravel().\n",
      "  y = column_or_1d(y, warn=True)\n"
     ]
    },
    {
     "data": {
      "text/plain": [
       "SVR(C=1.0, cache_size=200, coef0=0.0, degree=3, epsilon=0.1, gamma='auto',\n",
       "  kernel='rbf', max_iter=-1, shrinking=True, tol=0.001, verbose=False)"
      ]
     },
     "execution_count": 8,
     "metadata": {},
     "output_type": "execute_result"
    }
   ],
   "source": [
    "# Fitting to scaled data\n",
    "regressor = SVR(kernel = 'rbf')\n",
    "regressor.fit(X, y)\n"
   ]
  },
  {
   "cell_type": "code",
   "execution_count": 9,
   "metadata": {},
   "outputs": [
    {
     "data": {
      "text/plain": [
       "array([ 170370.0204065])"
      ]
     },
     "execution_count": 9,
     "metadata": {},
     "output_type": "execute_result"
    }
   ],
   "source": [
    "# Predicting a new result\n",
    "y_pred = regressor.predict(sc_X.transform(np.array([[6.5]])))\n",
    "y_pred = sc_y.inverse_transform(y_pred)\n",
    "y_pred"
   ]
  },
  {
   "cell_type": "code",
   "execution_count": null,
   "metadata": {},
   "outputs": [],
   "source": []
  }
 ],
 "metadata": {
  "kernelspec": {
   "display_name": "Python 3",
   "language": "python",
   "name": "python3"
  },
  "language_info": {
   "codemirror_mode": {
    "name": "ipython",
    "version": 3
   },
   "file_extension": ".py",
   "mimetype": "text/x-python",
   "name": "python",
   "nbconvert_exporter": "python",
   "pygments_lexer": "ipython3",
   "version": "3.6.4"
  }
 },
 "nbformat": 4,
 "nbformat_minor": 2
}
