{
 "cells": [
  {
   "cell_type": "markdown",
   "metadata": {},
   "source": [
    "## Linear Regression"
   ]
  },
  {
   "cell_type": "code",
   "execution_count": 54,
   "metadata": {
    "scrolled": true
   },
   "outputs": [
    {
     "data": {
      "text/html": [
       "<style>.container { width:90% !important; }</style>"
      ],
      "text/plain": [
       "<IPython.core.display.HTML object>"
      ]
     },
     "metadata": {},
     "output_type": "display_data"
    },
    {
     "data": {
      "text/html": [
       "<div>\n",
       "<style scoped>\n",
       "    .dataframe tbody tr th:only-of-type {\n",
       "        vertical-align: middle;\n",
       "    }\n",
       "\n",
       "    .dataframe tbody tr th {\n",
       "        vertical-align: top;\n",
       "    }\n",
       "\n",
       "    .dataframe thead th {\n",
       "        text-align: right;\n",
       "    }\n",
       "</style>\n",
       "<table border=\"1\" class=\"dataframe\">\n",
       "  <thead>\n",
       "    <tr style=\"text-align: right;\">\n",
       "      <th></th>\n",
       "      <th>STG</th>\n",
       "      <th>SCG</th>\n",
       "      <th>STR</th>\n",
       "      <th>LPR</th>\n",
       "      <th>PEG</th>\n",
       "      <th>UNS</th>\n",
       "      <th>grade</th>\n",
       "    </tr>\n",
       "  </thead>\n",
       "  <tbody>\n",
       "    <tr>\n",
       "      <th>134</th>\n",
       "      <td>0.400</td>\n",
       "      <td>0.12</td>\n",
       "      <td>0.41</td>\n",
       "      <td>0.10</td>\n",
       "      <td>0.65</td>\n",
       "      <td>Middle</td>\n",
       "      <td>2.0</td>\n",
       "    </tr>\n",
       "    <tr>\n",
       "      <th>89</th>\n",
       "      <td>0.290</td>\n",
       "      <td>0.30</td>\n",
       "      <td>0.52</td>\n",
       "      <td>0.09</td>\n",
       "      <td>0.67</td>\n",
       "      <td>Middle</td>\n",
       "      <td>2.0</td>\n",
       "    </tr>\n",
       "    <tr>\n",
       "      <th>141</th>\n",
       "      <td>0.420</td>\n",
       "      <td>0.15</td>\n",
       "      <td>0.66</td>\n",
       "      <td>0.78</td>\n",
       "      <td>0.40</td>\n",
       "      <td>Middle</td>\n",
       "      <td>2.0</td>\n",
       "    </tr>\n",
       "    <tr>\n",
       "      <th>20</th>\n",
       "      <td>0.120</td>\n",
       "      <td>0.28</td>\n",
       "      <td>0.20</td>\n",
       "      <td>0.78</td>\n",
       "      <td>0.20</td>\n",
       "      <td>Low</td>\n",
       "      <td>1.0</td>\n",
       "    </tr>\n",
       "    <tr>\n",
       "      <th>78</th>\n",
       "      <td>0.245</td>\n",
       "      <td>0.10</td>\n",
       "      <td>0.71</td>\n",
       "      <td>0.26</td>\n",
       "      <td>0.20</td>\n",
       "      <td>very_low</td>\n",
       "      <td>0.0</td>\n",
       "    </tr>\n",
       "  </tbody>\n",
       "</table>\n",
       "</div>"
      ],
      "text/plain": [
       "       STG   SCG   STR   LPR   PEG       UNS  grade\n",
       "134  0.400  0.12  0.41  0.10  0.65    Middle    2.0\n",
       "89   0.290  0.30  0.52  0.09  0.67    Middle    2.0\n",
       "141  0.420  0.15  0.66  0.78  0.40    Middle    2.0\n",
       "20   0.120  0.28  0.20  0.78  0.20       Low    1.0\n",
       "78   0.245  0.10  0.71  0.26  0.20  very_low    0.0"
      ]
     },
     "execution_count": 54,
     "metadata": {},
     "output_type": "execute_result"
    }
   ],
   "source": [
    "% matplotlib inline\n",
    "\n",
    "from IPython.core.display import display, HTML\n",
    "display(HTML(\"<style>.container { width:90% !important; }</style>\"))\n",
    "import numpy as np\n",
    "import pandas as pd\n",
    "pd.set_option('display.max_columns', 100)\n",
    "\n",
    "df = pd.read_csv('User_Knowledge.csv')\n",
    "\n",
    "df.loc[df.UNS == 'very_low','grade'] = 0\n",
    "df.loc[df.UNS == 'Low','grade'] = 1\n",
    "df.loc[df.UNS == 'Middle','grade'] = 2\n",
    "df.loc[df.UNS == 'High','grade'] = 3\n",
    "\n",
    "df.sample(5)"
   ]
  },
  {
   "cell_type": "markdown",
   "metadata": {},
   "source": [
    "#### Attribute Information\n",
    "\n",
    "- STG (The degree of study time for goal object materails), (input value)\n",
    "- SCG (The degree of repetition number of user for goal object materails) (input value) \n",
    "- STR (The degree of study time of user for related objects with goal object) (input value) \n",
    "- LPR (The exam performance of user for related objects with goal object) (input value) \n",
    "- PEG (The exam performance of user for goal objects) (input value) \n",
    "- UNS (The knowledge level of user) (target value) \n",
    " - Very Low: 50 \n",
    " - Low:129 \n",
    " - Middle: 122 \n",
    " - High 130"
   ]
  },
  {
   "cell_type": "code",
   "execution_count": 55,
   "metadata": {},
   "outputs": [
    {
     "data": {
      "text/html": [
       "<div>\n",
       "<style scoped>\n",
       "    .dataframe tbody tr th:only-of-type {\n",
       "        vertical-align: middle;\n",
       "    }\n",
       "\n",
       "    .dataframe tbody tr th {\n",
       "        vertical-align: top;\n",
       "    }\n",
       "\n",
       "    .dataframe thead th {\n",
       "        text-align: right;\n",
       "    }\n",
       "</style>\n",
       "<table border=\"1\" class=\"dataframe\">\n",
       "  <thead>\n",
       "    <tr style=\"text-align: right;\">\n",
       "      <th></th>\n",
       "      <th>STG</th>\n",
       "      <th>SCG</th>\n",
       "      <th>STR</th>\n",
       "      <th>LPR</th>\n",
       "      <th>PEG</th>\n",
       "    </tr>\n",
       "  </thead>\n",
       "  <tbody>\n",
       "    <tr>\n",
       "      <th>197</th>\n",
       "      <td>0.73</td>\n",
       "      <td>0.2</td>\n",
       "      <td>0.07</td>\n",
       "      <td>0.72</td>\n",
       "      <td>0.26</td>\n",
       "    </tr>\n",
       "  </tbody>\n",
       "</table>\n",
       "</div>"
      ],
      "text/plain": [
       "      STG  SCG   STR   LPR   PEG\n",
       "197  0.73  0.2  0.07  0.72  0.26"
      ]
     },
     "execution_count": 55,
     "metadata": {},
     "output_type": "execute_result"
    }
   ],
   "source": [
    "#y = list(df['UNS'])\n",
    "y = df.grade\n",
    "\n",
    "# feature selection, dropping SCG\n",
    "#X = df.drop(columns=['SCG']).iloc[:,0:4]\n",
    "# keeping all features\n",
    "X = df.iloc[:,0:5]\n",
    "\n",
    "X.sample()"
   ]
  },
  {
   "cell_type": "code",
   "execution_count": 56,
   "metadata": {},
   "outputs": [],
   "source": [
    "from sklearn.model_selection import train_test_split\n",
    "from sklearn.preprocessing import StandardScaler\n",
    "\n",
    "X_train, X_test, y_train, y_test = train_test_split(X, y, test_size=0.33, random_state=0)\n",
    "\n",
    "# separating transformed\n",
    "sc = StandardScaler()\n",
    "X_train_sc=sc.fit_transform(X_train)\n",
    "X_test_sc=sc.transform(X_test)"
   ]
  },
  {
   "cell_type": "markdown",
   "metadata": {},
   "source": [
    "### Linear regression"
   ]
  },
  {
   "cell_type": "code",
   "execution_count": 57,
   "metadata": {},
   "outputs": [
    {
     "name": "stdout",
     "output_type": "stream",
     "text": [
      "Linear Regression accuracy:  0.935041373654\n"
     ]
    }
   ],
   "source": [
    "from sklearn.linear_model import LinearRegression\n",
    "\n",
    "reg = LinearRegression()\n",
    "reg_pca = LinearRegression()\n",
    "\n",
    "reg.fit(X_train, y_train)\n",
    "reg_y_pred=reg.predict(X_test)\n",
    "print(\"Linear Regression accuracy: \", reg.score(X_test, y_test))"
   ]
  },
  {
   "cell_type": "code",
   "execution_count": 58,
   "metadata": {},
   "outputs": [
    {
     "name": "stdout",
     "output_type": "stream",
     "text": [
      "MAE:  0.170240265657\n",
      "MSE:  0.0532685328268\n",
      "RMSE:  0.230799767822\n"
     ]
    }
   ],
   "source": [
    "from sklearn import metrics\n",
    "print(\"MAE: \", metrics.mean_absolute_error(y_test, reg_y_pred))\n",
    "print(\"MSE: \", metrics.mean_squared_error(y_test, reg_y_pred))\n",
    "print(\"RMSE: \", np.sqrt(metrics.mean_squared_error(y_test, reg_y_pred)))"
   ]
  },
  {
   "cell_type": "markdown",
   "metadata": {},
   "source": [
    "### Linear regression + SVC approach"
   ]
  },
  {
   "cell_type": "code",
   "execution_count": 59,
   "metadata": {},
   "outputs": [
    {
     "name": "stdout",
     "output_type": "stream",
     "text": [
      "Linear Regression (with PCA) accuracy:  0.485295947626\n"
     ]
    }
   ],
   "source": [
    "from sklearn.decomposition import PCA\n",
    "pca = PCA(n_components=2)\n",
    "X_train_pca = pca.fit_transform(X_train_sc)\n",
    "X_test_pca = pca.transform(X_test_sc)\n",
    "\n",
    "reg_pca.fit(X_train_pca, y_train)\n",
    "reg_y_pred_pca = reg_pca.predict(X_test_pca)\n",
    "print(\"Linear Regression (with PCA) accuracy: \", reg_pca.score(X_test_pca, y_test))"
   ]
  },
  {
   "cell_type": "code",
   "execution_count": 60,
   "metadata": {},
   "outputs": [
    {
     "name": "stdout",
     "output_type": "stream",
     "text": [
      "MAE:  0.541667047803\n",
      "MSE:  0.422076808768\n",
      "RMSE:  0.649674386726\n"
     ]
    }
   ],
   "source": [
    "from sklearn import metrics\n",
    "print(\"MAE: \", metrics.mean_absolute_error(y_test, reg_y_pred_pca))\n",
    "print(\"MSE: \", metrics.mean_squared_error(y_test, reg_y_pred_pca))\n",
    "print(\"RMSE: \", np.sqrt(metrics.mean_squared_error(y_test, reg_y_pred_pca)))"
   ]
  },
  {
   "cell_type": "markdown",
   "metadata": {},
   "source": [
    "#### Feature select. Dropping SCG to see whether RMSE improves"
   ]
  },
  {
   "cell_type": "code",
   "execution_count": 61,
   "metadata": {},
   "outputs": [
    {
     "name": "stdout",
     "output_type": "stream",
     "text": [
      "Linear Regression accuracy:  0.932686320712\n",
      "MAE:  0.169140096604\n",
      "MSE:  0.0551997653979\n",
      "RMSE:  0.234946303223\n",
      "Linear Regression (with PCA) accuracy:  0.477349803784\n",
      "MAE:  0.546350442153\n",
      "MSE:  0.428592947546\n",
      "RMSE:  0.65467010589\n"
     ]
    }
   ],
   "source": [
    "# feature selection, dropping SCG to see whether RMSE improves\n",
    "X = df.drop(columns=['SCG']).iloc[:,0:4]\n",
    "\n",
    "X.sample()\n",
    "\n",
    "from sklearn.model_selection import train_test_split\n",
    "from sklearn.preprocessing import StandardScaler\n",
    "\n",
    "X_train, X_test, y_train, y_test = train_test_split(X, y, test_size=0.33, random_state=0)\n",
    "\n",
    "# separating transformed\n",
    "sc = StandardScaler()\n",
    "X_train_sc=sc.fit_transform(X_train)\n",
    "X_test_sc=sc.transform(X_test)\n",
    "\n",
    "# Linear regression\n",
    "from sklearn.linear_model import LinearRegression\n",
    "\n",
    "reg = LinearRegression()\n",
    "reg_pca = LinearRegression()\n",
    "\n",
    "reg.fit(X_train, y_train)\n",
    "reg_y_pred=reg.predict(X_test)\n",
    "print(\"Linear Regression accuracy: \", reg.score(X_test, y_test))\n",
    "\n",
    "from sklearn import metrics\n",
    "print(\"MAE: \", metrics.mean_absolute_error(y_test, reg_y_pred))\n",
    "print(\"MSE: \", metrics.mean_squared_error(y_test, reg_y_pred))\n",
    "print(\"RMSE: \", np.sqrt(metrics.mean_squared_error(y_test, reg_y_pred)))\n",
    "\n",
    "# Linear regression + SVC approach\n",
    "from sklearn.decomposition import PCA\n",
    "pca = PCA(n_components=2)\n",
    "X_train_pca = pca.fit_transform(X_train_sc)\n",
    "X_test_pca = pca.transform(X_test_sc)\n",
    "\n",
    "reg_pca.fit(X_train_pca, y_train)\n",
    "reg_y_pred_pca = reg_pca.predict(X_test_pca)\n",
    "print(\"Linear Regression (with PCA) accuracy: \", reg_pca.score(X_test_pca, y_test))\n",
    "\n",
    "from sklearn import metrics\n",
    "print(\"MAE: \", metrics.mean_absolute_error(y_test, reg_y_pred_pca))\n",
    "print(\"MSE: \", metrics.mean_squared_error(y_test, reg_y_pred_pca))\n",
    "print(\"RMSE: \", np.sqrt(metrics.mean_squared_error(y_test, reg_y_pred_pca)))"
   ]
  },
  {
   "cell_type": "markdown",
   "metadata": {},
   "source": [
    "Linear Regression has a slight decrease, while Linear Regression with PCA shows a slight increase."
   ]
  }
 ],
 "metadata": {
  "kernelspec": {
   "display_name": "Python 3",
   "language": "python",
   "name": "python3"
  },
  "language_info": {
   "codemirror_mode": {
    "name": "ipython",
    "version": 3
   },
   "file_extension": ".py",
   "mimetype": "text/x-python",
   "name": "python",
   "nbconvert_exporter": "python",
   "pygments_lexer": "ipython3",
   "version": "3.6.4"
  }
 },
 "nbformat": 4,
 "nbformat_minor": 2
}
