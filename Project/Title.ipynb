{
 "cells": [
  {
   "cell_type": "markdown",
   "metadata": {},
   "source": [
    "CCPS 884 <br>\n",
    "Data Mining Project<br>\n",
    "Andy Lee<br>\n",
    "\n",
    "# TABLE OF CONTENTS\n",
    "\n",
    "1. Clustering\n",
    "2. MLP\n",
    "3. KNN - multi-label\n",
    "4. KNN - one label vs rest\n",
    "5. KNN - probability, classification threshold\n",
    "6. SVC\n",
    "7. Linear Regression\n",
    "8. Logistic Regression"
   ]
  },
  {
   "cell_type": "markdown",
   "metadata": {},
   "source": [
    "CCPS 844 Data Mining (Project) - Andy Lee\n",
    "\n",
    "1. Select a dataset or datasets of your choice. Here are few links that can be helpful for you to select a dataset.\n",
    "2. Once you have selected a dataset or datasets of your choice. After reading the datasets, check the type of different attributes/columns/features to ensure that you have appropriate types (categorical/numerical) for your columns. \n",
    "3. Use visualization to understand your data\n",
    "4. For exploratory analysis, apply clustering algorithms (K means/ Hierarchical clustering) to improve your understanding\n",
    "5. Apply the concepts learned in Module 9 to select the features\n",
    "6. Try to reduce the dimensions of the data if possible (Apply a dimensionality reduction algorithm). For step 7 use both the original data and the data that you get after applying the Step 6.\n",
    "7. Divide your data in Train and Test or choose cross validation to evaluate the selected model\n",
    " - Apply all learned classification algorithms to choose which one performs best\n",
    " - Apply all learned regression algorithms to choose which one performs best\n",
    "\n",
    "Please note that you need to get your data in appropriate format before applying a classification or regression algorithm. One of the differences is: class variable for a regression model is numeric whereas it is categorical for classification. "
   ]
  }
 ],
 "metadata": {
  "kernelspec": {
   "display_name": "Python 3",
   "language": "python",
   "name": "python3"
  },
  "language_info": {
   "codemirror_mode": {
    "name": "ipython",
    "version": 3
   },
   "file_extension": ".py",
   "mimetype": "text/x-python",
   "name": "python",
   "nbconvert_exporter": "python",
   "pygments_lexer": "ipython3",
   "version": "3.6.4"
  }
 },
 "nbformat": 4,
 "nbformat_minor": 2
}
